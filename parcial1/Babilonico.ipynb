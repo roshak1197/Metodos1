{
 "cells": [
  {
   "cell_type": "code",
   "execution_count": 2,
   "id": "f1b11e45",
   "metadata": {},
   "outputs": [],
   "source": [
    "import numpy as np \n",
    "import matplotlib.pyplot as plt"
   ]
  },
  {
   "cell_type": "code",
   "execution_count": 5,
   "id": "14e2bc04",
   "metadata": {},
   "outputs": [
    {
     "data": {
      "text/plain": [
       "array([0., 0., 0., 0., 0., 0., 0., 0., 0., 0.])"
      ]
     },
     "execution_count": 5,
     "metadata": {},
     "output_type": "execute_result"
    }
   ],
   "source": [
    "x = 2.\n",
    "n = 10\n",
    "func = np.zeros(n)\n",
    "func\n"
   ]
  },
  {
   "cell_type": "code",
   "execution_count": 6,
   "id": "2295098f",
   "metadata": {},
   "outputs": [
    {
     "data": {
      "text/plain": [
       "array([2., 0., 0., 0., 0., 0., 0., 0., 0., 0.])"
      ]
     },
     "execution_count": 6,
     "metadata": {},
     "output_type": "execute_result"
    }
   ],
   "source": [
    "func[0] = x\n",
    "func"
   ]
  },
  {
   "cell_type": "code",
   "execution_count": 7,
   "id": "217fd0be",
   "metadata": {},
   "outputs": [],
   "source": [
    "def Update(f,x):\n",
    "    f = (x/f + f)/2.\n",
    "    return f "
   ]
  },
  {
   "cell_type": "code",
   "execution_count": 8,
   "id": "c11ceb04",
   "metadata": {},
   "outputs": [],
   "source": [
    "for i in range(1,n):\n",
    "    func[i] = Update(func[i-1],x)\n",
    "    "
   ]
  },
  {
   "cell_type": "code",
   "execution_count": 9,
   "id": "f6169731",
   "metadata": {},
   "outputs": [
    {
     "data": {
      "text/plain": [
       "array([2.        , 1.5       , 1.41666667, 1.41421569, 1.41421356,\n",
       "       1.41421356, 1.41421356, 1.41421356, 1.41421356, 1.41421356])"
      ]
     },
     "execution_count": 9,
     "metadata": {},
     "output_type": "execute_result"
    }
   ],
   "source": [
    "func"
   ]
  },
  {
   "cell_type": "code",
   "execution_count": 10,
   "id": "20462ad8",
   "metadata": {},
   "outputs": [
    {
     "data": {
      "text/plain": [
       "1.414213562373095"
      ]
     },
     "execution_count": 10,
     "metadata": {},
     "output_type": "execute_result"
    }
   ],
   "source": [
    "func[-1]"
   ]
  },
  {
   "cell_type": "code",
   "execution_count": 11,
   "id": "5a2d594e",
   "metadata": {},
   "outputs": [
    {
     "data": {
      "text/plain": [
       "array([0, 1, 2, 3, 4, 5, 6, 7, 8, 9])"
      ]
     },
     "execution_count": 11,
     "metadata": {},
     "output_type": "execute_result"
    }
   ],
   "source": [
    "k = np.arange(0,n,1)\n",
    "k"
   ]
  },
  {
   "cell_type": "code",
   "execution_count": 12,
   "id": "1791def5",
   "metadata": {},
   "outputs": [
    {
     "data": {
      "text/plain": [
       "[<matplotlib.lines.Line2D at 0x7f143e857198>]"
      ]
     },
     "execution_count": 12,
     "metadata": {},
     "output_type": "execute_result"
    },
    {
     "data": {
      "image/png": "[encoded data removed]",
      "text/plain": [
       "<Figure size 432x288 with 1 Axes>"
      ]
     },
     "metadata": {
      "needs_background": "light"
     },
     "output_type": "display_data"
    }
   ],
   "source": [
    "plt.plot(func)"
   ]
  },
  {
   "cell_type": "code",
   "execution_count": 21,
   "id": "da9f0852",
   "metadata": {},
   "outputs": [
    {
     "data": {
      "text/plain": [
       "<matplotlib.lines.Line2D at 0x7f1436363860>"
      ]
     },
     "execution_count": 21,
     "metadata": {},
     "output_type": "execute_result"
    },
    {
     "data": {
      "image/png": "[encoded data removed]",
      "text/plain": [
       "<Figure size 432x288 with 1 Axes>"
      ]
     },
     "metadata": {
      "needs_background": "light"
     },
     "output_type": "display_data"
    }
   ],
   "source": [
    "plt.scatter(k,func,marker='o',s=70)\n",
    "plt.xlabel(r'$n$',fontsize=15)\n",
    "plt.ylabel(r'$f_{n}(x)$',fontsize=15)\n",
    "plt.axhline(y=np.sqrt(x),color='r',ls='--')"
   ]
  },
  {
   "cell_type": "code",
   "execution_count": 63,
   "id": "47dd20d6",
   "metadata": {},
   "outputs": [],
   "source": [
    "A = np.array([5,2])\n",
    "B = np.array([1,2])"
   ]
  },
  {
   "cell_type": "code",
   "execution_count": 64,
   "id": "088debc0",
   "metadata": {},
   "outputs": [],
   "source": [
    "def Getcrossproduct(A,B):\n",
    "    C = np.zeros(3)\n",
    "    C[2] = A[0]*B[1]-A[1]*B[0]\n",
    "    return C"
   ]
  },
  {
   "cell_type": "code",
   "execution_count": 65,
   "id": "9aa3879c",
   "metadata": {},
   "outputs": [
    {
     "data": {
      "text/plain": [
       "array([0., 0., 8.])"
      ]
     },
     "execution_count": 65,
     "metadata": {},
     "output_type": "execute_result"
    }
   ],
   "source": [
    "C = Getcrossproduct(A,B)\n",
    "C"
   ]
  },
  {
   "cell_type": "code",
   "execution_count": 66,
   "id": "28bf5f1e",
   "metadata": {},
   "outputs": [
    {
     "data": {
      "text/plain": [
       "array([ 0.,  0., -8.])"
      ]
     },
     "execution_count": 66,
     "metadata": {},
     "output_type": "execute_result"
    }
   ],
   "source": [
    "C = Getcrossproduct(B,A)\n",
    "C"
   ]
  },
  {
   "cell_type": "code",
   "execution_count": 74,
   "id": "b128d1f1",
   "metadata": {},
   "outputs": [],
   "source": [
    "#encontrar la norma\n",
    "def GetArea(C):\n",
    "    return np.sqrt( np.sum(C**2) )"
   ]
  },
  {
   "cell_type": "code",
   "execution_count": 75,
   "id": "c2484b03",
   "metadata": {},
   "outputs": [
    {
     "data": {
      "text/plain": [
       "8.0"
      ]
     },
     "execution_count": 75,
     "metadata": {},
     "output_type": "execute_result"
    }
   ],
   "source": [
    "Area1 = GetArea(C)\n",
    "Area1"
   ]
  },
  {
   "cell_type": "code",
   "execution_count": 76,
   "id": "c87fce3a",
   "metadata": {},
   "outputs": [],
   "source": [
    "#haciendo una transformacion con una matriz \n",
    "def transform(A):\n",
    "    M = np.zeros ( (2,2) )\n",
    "    M[0,:] = [4,2]\n",
    "    M[1,:] = [1,2]\n",
    "    \n",
    "    At = np.zeros_like(A)\n",
    "    for i in range(len(A)):\n",
    "        At[i] = np.sum(M[i,:]*A[:])\n",
    "        \n",
    "        return At"
   ]
  },
  {
   "cell_type": "code",
   "execution_count": 77,
   "id": "7685af66",
   "metadata": {},
   "outputs": [
    {
     "name": "stdout",
     "output_type": "stream",
     "text": [
      "[24  0] [8 0]\n"
     ]
    }
   ],
   "source": [
    "At = transform(A)\n",
    "Bt = transform(B)\n",
    "print(At,Bt)"
   ]
  },
  {
   "cell_type": "code",
   "execution_count": 79,
   "id": "7dfb206e",
   "metadata": {},
   "outputs": [
    {
     "data": {
      "text/plain": [
       "<matplotlib.patches.FancyArrow at 0x7f1435c8f978>"
      ]
     },
     "execution_count": 79,
     "metadata": {},
     "output_type": "execute_result"
    },
    {
     "data": {
      "image/png": "[encoded data removed]",
      "text/plain": [
       "<Figure size 720x360 with 2 Axes>"
      ]
     },
     "metadata": {
      "needs_background": "light"
     },
     "output_type": "display_data"
    }
   ],
   "source": [
    "fig = plt.figure(figsize=(10,5))\n",
    "ax1 = fig .add_subplot(121)\n",
    "ax1 = fig.add_subplot(122)\n",
    "ax1.arrow(0,0,A[0],A[1],head_width=0.5)\n",
    "ax1.arrow(0,0,B[0],B[1],head_width=0.5)\n",
    "#ax2.arrow(0,0,Bt[0],Bt[1],head_width=0.5)\n"
   ]
  },
  {
   "cell_type": "code",
   "execution_count": 72,
   "id": "1f7fda90",
   "metadata": {},
   "outputs": [
    {
     "data": {
      "text/plain": [
       "array([0., 0., 0.])"
      ]
     },
     "execution_count": 72,
     "metadata": {},
     "output_type": "execute_result"
    }
   ],
   "source": [
    "Ct = Getcrossproduct(At,Bt)\n",
    "Ct"
   ]
  },
  {
   "cell_type": "code",
   "execution_count": 73,
   "id": "d599bf2f",
   "metadata": {},
   "outputs": [
    {
     "data": {
      "text/plain": [
       "0.0"
      ]
     },
     "execution_count": 73,
     "metadata": {},
     "output_type": "execute_result"
    }
   ],
   "source": [
    "def GetArea(Ct):\n",
    "    return np.sqrt( np.sum(Ct**2) )\n",
    "Area2 = GetArea(Ct)\n",
    "Area2"
   ]
  },
  {
   "cell_type": "code",
   "execution_count": null,
   "id": "95eab659",
   "metadata": {},
   "outputs": [],
   "source": []
  },
  {
   "cell_type": "code",
   "execution_count": null,
   "id": "5533b326",
   "metadata": {},
   "outputs": [],
   "source": []
  }
 ],
 "metadata": {
  "kernelspec": {
   "display_name": "Python 3",
   "language": "python",
   "name": "python3"
  },
  "language_info": {
   "codemirror_mode": {
    "name": "ipython",
    "version": 3
   },
   "file_extension": ".py",
   "mimetype": "text/x-python",
   "name": "python",
   "nbconvert_exporter": "python",
   "pygments_lexer": "ipython3",
   "version": "3.6.9"
  }
 },
 "nbformat": 4,
 "nbformat_minor": 5
}
