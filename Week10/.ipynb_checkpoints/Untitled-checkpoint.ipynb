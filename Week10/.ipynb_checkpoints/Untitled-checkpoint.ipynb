{
 "cells": [
  {
   "cell_type": "code",
   "execution_count": 18,
   "id": "31b778ad",
   "metadata": {},
   "outputs": [],
   "source": [
    "%matplotlib notebook\n",
    "import numpy as np \n",
    "import matplotlib.pyplot as plt\n",
    "from matplotlib import cm \n",
    "from mpl_toolkits.mplot3d import axes3d\n",
    "import random\n"
   ]
  },
  {
   "cell_type": "code",
   "execution_count": 19,
   "id": "09de2439",
   "metadata": {},
   "outputs": [],
   "source": [
    "sigm = lambda x: 1/(1+exp(-x))"
   ]
  },
  {
   "cell_type": "code",
   "execution_count": 22,
   "id": "ddbc322e",
   "metadata": {},
   "outputs": [],
   "source": [
    "class Layer: \n",
    "    \n",
    "    def __init__(self,NC,NN,ActFunc):\n",
    "        self.NC = NC\n",
    "        self.NN = NN\n",
    "        self.ActFunc = ActFunc\n",
    "        self.W = np.random.uniform(-10,10,size={self.NC,self.NN})\n",
    "        self.b = np.random.uniform(-10,10,size={1,self.NN})\n",
    "    \n",
    "    \n",
    "    def Activation(self,x):\n",
    "        z = np.dot(x,self.W)\n",
    "        return self.ActFunc(z)[0] + self.b\n",
    "    \n",
    "    def Mutate(self):\n",
    "        self.W += np.random.uniform(loc=0,scale=0.05,size={self.NC,self.NN})\n",
    "        self.b += np.random.uniform(loc=0,scale=0.05,size={1,self.NN})\n",
    "        "
   ]
  },
  {
   "cell_type": "code",
   "execution_count": null,
   "id": "376ae21a",
   "metadata": {},
   "outputs": [],
   "source": []
  },
  {
   "cell_type": "code",
   "execution_count": null,
   "id": "30bf9b6c",
   "metadata": {},
   "outputs": [],
   "source": []
  },
  {
   "cell_type": "code",
   "execution_count": null,
   "id": "f831b12a",
   "metadata": {},
   "outputs": [],
   "source": []
  }
 ],
 "metadata": {
  "kernelspec": {
   "display_name": "Python 3",
   "language": "python",
   "name": "python3"
  },
  "language_info": {
   "codemirror_mode": {
    "name": "ipython",
    "version": 3
   },
   "file_extension": ".py",
   "mimetype": "text/x-python",
   "name": "python",
   "nbconvert_exporter": "python",
   "pygments_lexer": "ipython3",
   "version": "3.9.13"
  }
 },
 "nbformat": 4,
 "nbformat_minor": 5
}
