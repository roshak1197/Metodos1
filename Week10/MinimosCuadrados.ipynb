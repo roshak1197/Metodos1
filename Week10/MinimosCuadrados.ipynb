{
 "cells": [
  {
   "cell_type": "code",
   "execution_count": 1,
   "id": "c562f562",
   "metadata": {},
   "outputs": [
    {
     "data": {
      "text/html": [
       "<style>.container { width:90% !important; }</style>"
      ],
      "text/plain": [
       "<IPython.core.display.HTML object>"
      ]
     },
     "metadata": {},
     "output_type": "display_data"
    }
   ],
   "source": [
    "#%matplotlib notebook\n",
    "from IPython.display import display, HTML\n",
    "display(HTML(\"<style>.container { width:90% !important; }</style>\"))\n",
    "\n",
    "import numpy as np\n",
    "import matplotlib.pyplot as plt\n",
    "import sympy as sym\n",
    "\n",
    "from scipy.stats import norm\n",
    "from scipy.stats import t\n",
    "from scipy.stats import chi2\n",
    "\n",
    "import os\n",
    "import os.path as path\n",
    "import wget"
   ]
  },
  {
   "cell_type": "code",
   "execution_count": 2,
   "id": "50e52509",
   "metadata": {},
   "outputs": [
    {
     "name": "stdout",
     "output_type": "stream",
     "text": [
      "\r",
      "  0% [                                                                                  ]   0 / 522\r",
      "100% [..................................................................................] 522 / 522"
     ]
    }
   ],
   "source": [
    "if not path.exists('Data'):\n",
    "    os.mkdir('Data')\n",
    "    \n",
    "file = 'Data/Minimos.dat' \n",
    "\n",
    "url = 'https://raw.githubusercontent.com/asegura4488/Database/main/MetodosComputacionalesReforma/MinimosLineal.txt'\n",
    "#url = 'https://raw.githubusercontent.com/asegura4488/Database/main/MetodosComputacionalesReforma/MinimosCuadratico.txt'\n",
    "\n",
    "if not path.exists(file):\n",
    "    Path_ = wget.download(url,file)\n",
    "else:\n",
    "    Path_ = file"
   ]
  },
  {
   "cell_type": "code",
   "execution_count": 45,
   "id": "d8df21ec",
   "metadata": {},
   "outputs": [
    {
     "name": "stdout",
     "output_type": "stream",
     "text": [
      "20\n"
     ]
    }
   ],
   "source": [
    "data = np.loadtxt(Path_)\n",
    "x = data[:,0]\n",
    "y = data[:,1]\n",
    "N = len(x)\n",
    "sigma = np.random.uniform(0,0.2,N)\n",
    "sigma\n",
    "print(N)"
   ]
  },
  {
   "cell_type": "code",
   "execution_count": 46,
   "id": "15b1584d",
   "metadata": {},
   "outputs": [
    {
     "data": {
      "text/plain": [
       "<ErrorbarContainer object of 3 artists>"
      ]
     },
     "execution_count": 46,
     "metadata": {},
     "output_type": "execute_result"
    },
    {
     "data": {
      "image/png": "[encoded data removed]",
      "text/plain": [
       "<Figure size 432x288 with 1 Axes>"
      ]
     },
     "metadata": {
      "needs_background": "light"
     },
     "output_type": "display_data"
    }
   ],
   "source": [
    "plt.errorbar(x,y,yerr=sigma,fmt='o')"
   ]
  },
  {
   "cell_type": "code",
   "execution_count": 47,
   "id": "20daa0b7",
   "metadata": {},
   "outputs": [],
   "source": [
    "def GetFit(x,y,n=2):\n",
    "    \n",
    "    l = x.shape[0]\n",
    "    b = y\n",
    "    \n",
    "    A = np.ones((l,n+1))\n",
    "    \n",
    "    for i in range(1,n+1):\n",
    "        A[:,i] = x**i\n",
    "        \n",
    "    AT = np.dot(A.T,A)\n",
    "    bT = np.dot(A.T,b)\n",
    "    \n",
    "    xsol = np.linalg.solve(AT,bT)\n",
    "    \n",
    "    return xsol"
   ]
  },
  {
   "cell_type": "code",
   "execution_count": 84,
   "id": "cef1e973",
   "metadata": {},
   "outputs": [
    {
     "data": {
      "text/plain": [
       "array([-5.45282232e+00,  2.22752179e+00, -5.12424875e-03])"
      ]
     },
     "execution_count": 84,
     "metadata": {},
     "output_type": "execute_result"
    }
   ],
   "source": [
    "n = 2\n",
    "param = GetFit(x,y,n)\n",
    "param"
   ]
  },
  {
   "cell_type": "code",
   "execution_count": 85,
   "id": "44925409",
   "metadata": {},
   "outputs": [],
   "source": [
    "def GetModel(x,p):\n",
    "    \n",
    "    y = 0\n",
    "    for n in range(len(p)):\n",
    "        y += p[n]*x**n\n",
    "        \n",
    "    return y"
   ]
  },
  {
   "cell_type": "code",
   "execution_count": 86,
   "id": "66f39690",
   "metadata": {},
   "outputs": [
    {
     "data": {
      "text/latex": [
       "$\\displaystyle - 0.00512424874937837 x^{2} + 2.22752178860941 x - 5.45282232464357$"
      ],
      "text/plain": [
       "-0.00512424874937837*x**2 + 2.22752178860941*x - 5.45282232464357"
      ]
     },
     "execution_count": 86,
     "metadata": {},
     "output_type": "execute_result"
    }
   ],
   "source": [
    "X = sym.Symbol('x',real=True)\n",
    "GetModel(X,param)"
   ]
  },
  {
   "cell_type": "code",
   "execution_count": 87,
   "id": "13830d67",
   "metadata": {},
   "outputs": [
    {
     "data": {
      "text/plain": [
       "[<matplotlib.lines.Line2D at 0x7f1eac3ce190>]"
      ]
     },
     "execution_count": 87,
     "metadata": {},
     "output_type": "execute_result"
    },
    {
     "data": {
      "image/png": "[encoded data removed]",
      "text/plain": [
       "<Figure size 432x288 with 1 Axes>"
      ]
     },
     "metadata": {
      "needs_background": "light"
     },
     "output_type": "display_data"
    }
   ],
   "source": [
    "_x = np.linspace(np.min(x),np.max(x),50)\n",
    "\n",
    "_y = GetModel(_x,param)\n",
    "\n",
    "plt.errorbar(x,y,yerr=sigma,fmt='o')\n",
    "plt.plot(_x,_y,color='r')"
   ]
  },
  {
   "cell_type": "markdown",
   "id": "9234feec",
   "metadata": {},
   "source": [
    "# Varianza"
   ]
  },
  {
   "cell_type": "code",
   "execution_count": 88,
   "id": "732e7b67",
   "metadata": {},
   "outputs": [],
   "source": [
    "def GetError(x,y,p):\n",
    "    \n",
    "    l = x.shape[0]\n",
    "    \n",
    "    A = np.ones((l,n+1))\n",
    "    \n",
    "    for i in range(1,n+1):\n",
    "        A[:,i] = x**i\n",
    "    \n",
    "    # Residuos\n",
    "    R = y - np.dot(A,p)\n",
    "    \n",
    "    sigma2 = np.dot( R.T, R )/(N-len(p))\n",
    "    \n",
    "    print(sigma2)\n",
    "    \n",
    "    CVar = sigma2*np.linalg.inv(np.dot(A.T,A))\n",
    "    \n",
    "    return CVar\n",
    "    "
   ]
  },
  {
   "cell_type": "code",
   "execution_count": 89,
   "id": "b4782c52",
   "metadata": {},
   "outputs": [
    {
     "name": "stdout",
     "output_type": "stream",
     "text": [
      "1.312035759993504\n"
     ]
    }
   ],
   "source": [
    "Cov = GetError(x,y,param)"
   ]
  },
  {
   "cell_type": "code",
   "execution_count": 90,
   "id": "7de51a96",
   "metadata": {},
   "outputs": [
    {
     "data": {
      "text/plain": [
       "array([[ 4.86475583e-01, -9.46965985e-02,  3.84451980e-03],\n",
       "       [-9.46965985e-02,  2.61292453e-02, -1.21743121e-03],\n",
       "       [ 3.84451980e-03, -1.21743121e-03,  6.08715573e-05]])"
      ]
     },
     "execution_count": 90,
     "metadata": {},
     "output_type": "execute_result"
    }
   ],
   "source": [
    "Cov"
   ]
  },
  {
   "cell_type": "code",
   "execution_count": 91,
   "id": "a2c37e52",
   "metadata": {},
   "outputs": [
    {
     "data": {
      "text/plain": [
       "array([0.69747802, 0.16164543, 0.00780202])"
      ]
     },
     "execution_count": 91,
     "metadata": {},
     "output_type": "execute_result"
    }
   ],
   "source": [
    "std = np.sqrt(np.diag(Cov))\n",
    "std"
   ]
  },
  {
   "cell_type": "code",
   "execution_count": 92,
   "id": "68815eae",
   "metadata": {},
   "outputs": [
    {
     "data": {
      "text/plain": [
       "array([-5.45282232e+00,  2.22752179e+00, -5.12424875e-03])"
      ]
     },
     "execution_count": 92,
     "metadata": {},
     "output_type": "execute_result"
    }
   ],
   "source": [
    "param"
   ]
  },
  {
   "cell_type": "code",
   "execution_count": 93,
   "id": "cb4692b4",
   "metadata": {},
   "outputs": [],
   "source": [
    "#t-student observado\n",
    "tobs = np.abs( 0 - param[-1] )/std[-1]"
   ]
  },
  {
   "cell_type": "code",
   "execution_count": 94,
   "id": "a9b2f48c",
   "metadata": {},
   "outputs": [
    {
     "data": {
      "text/plain": [
       "16"
      ]
     },
     "execution_count": 94,
     "metadata": {},
     "output_type": "execute_result"
    }
   ],
   "source": [
    "df = N - len(param) - 1\n",
    "df"
   ]
  },
  {
   "cell_type": "code",
   "execution_count": 95,
   "id": "18ea8f5c",
   "metadata": {},
   "outputs": [
    {
     "data": {
      "text/plain": [
       "2.1199052992210112"
      ]
     },
     "execution_count": 95,
     "metadata": {},
     "output_type": "execute_result"
    }
   ],
   "source": [
    "tcritico = t.ppf(0.975,df=df)\n",
    "tcritico"
   ]
  },
  {
   "cell_type": "code",
   "execution_count": 96,
   "id": "5ba50bc5",
   "metadata": {},
   "outputs": [
    {
     "data": {
      "text/plain": [
       "<matplotlib.lines.Line2D at 0x7f1eac3b7fd0>"
      ]
     },
     "execution_count": 96,
     "metadata": {},
     "output_type": "execute_result"
    },
    {
     "data": {
      "image/png": "[encoded data removed]",
      "text/plain": [
       "<Figure size 432x288 with 1 Axes>"
      ]
     },
     "metadata": {
      "needs_background": "light"
     },
     "output_type": "display_data"
    }
   ],
   "source": [
    "_x = np.linspace(0,5,100)\n",
    "plt.plot(_x,t.pdf(_x,df=df))\n",
    "plt.axvline(x=tcritico,color='r')\n",
    "plt.axvline(x=tobs,color='k')"
   ]
  },
  {
   "cell_type": "code",
   "execution_count": null,
   "id": "6c98caa4",
   "metadata": {},
   "outputs": [],
   "source": []
  }
 ],
 "metadata": {
  "kernelspec": {
   "display_name": "Python 3",
   "language": "python",
   "name": "python3"
  },
  "language_info": {
   "codemirror_mode": {
    "name": "ipython",
    "version": 3
   },
   "file_extension": ".py",
   "mimetype": "text/x-python",
   "name": "python",
   "nbconvert_exporter": "python",
   "pygments_lexer": "ipython3",
   "version": "3.9.13"
  }
 },
 "nbformat": 4,
 "nbformat_minor": 5
}
